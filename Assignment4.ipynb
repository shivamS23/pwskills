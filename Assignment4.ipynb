{
 "cells": [
  {
   "cell_type": "markdown",
   "id": "fb42e55b-b25b-4844-b417-196c8d203a60",
   "metadata": {},
   "source": [
    "## Q1. Create a python program to sort the given list of tuples based on integer value using a lambda function.[('Sachin Tendulkar', 34357), ('Ricky Ponting', 27483), ('Jack Kallis', 25534), ('Virat Kohli', 24936)]"
   ]
  },
  {
   "cell_type": "code",
   "execution_count": 4,
   "id": "e8080f57-2e93-43ee-9603-0ed25e4068f6",
   "metadata": {},
   "outputs": [],
   "source": [
    "data = [('Sachin Tendulkar', 34357), ('Ricky Ponting', 27483), ('Jack Kallis', 25534), ('Virat Kohli', 24936)]"
   ]
  },
  {
   "cell_type": "code",
   "execution_count": 30,
   "id": "9d58fd2b-249e-4f3b-b245-74b1920b699a",
   "metadata": {},
   "outputs": [
    {
     "data": {
      "text/plain": [
       "[('Virat Kohli', 24936),\n",
       " ('Jack Kallis', 25534),\n",
       " ('Ricky Ponting', 27483),\n",
       " ('Sachin Tendulkar', 34357)]"
      ]
     },
     "execution_count": 30,
     "metadata": {},
     "output_type": "execute_result"
    }
   ],
   "source": [
    "sorted(data, key =lambda x : x[1])"
   ]
  },
  {
   "cell_type": "markdown",
   "id": "7d3b869b-d1d9-42ac-b30f-cc21d4f06a14",
   "metadata": {},
   "source": [
    "## Q2. Write a Python Program to find the squares of all the numbers in the given list of integers using lambda and map functions. [1, 2, 3, 4, 5, 6, 7, 8, 9, 10]"
   ]
  },
  {
   "cell_type": "code",
   "execution_count": 31,
   "id": "678ed091-74ba-48ca-ab4c-6b2720dd6c15",
   "metadata": {},
   "outputs": [],
   "source": [
    "square = lambda a : a **2"
   ]
  },
  {
   "cell_type": "code",
   "execution_count": 37,
   "id": "ffd6637c-82eb-42e0-956b-ea393d984d98",
   "metadata": {},
   "outputs": [
    {
     "data": {
      "text/plain": [
       "[1, 4, 9, 16, 25, 36, 49, 64, 81, 100]"
      ]
     },
     "execution_count": 37,
     "metadata": {},
     "output_type": "execute_result"
    }
   ],
   "source": [
    "l =  [1, 2, 3, 4, 5, 6, 7, 8, 9, 10]\n",
    "list(map(square ,l))"
   ]
  },
  {
   "cell_type": "markdown",
   "id": "e04945e5-c839-4782-9933-6d20af6a69cb",
   "metadata": {},
   "source": [
    "## Q3. Write a python program to convert the given list of integers into a tuple of strings. Use map and lambda functions\n",
    "Given String: [1, 2, 3, 4, 5, 6, 7, 8, 9, 10]\n",
    "\n",
    "Expected output: ('1', '2', '3', '4', '5', '6', '7', '8', '9', '10')"
   ]
  },
  {
   "cell_type": "code",
   "execution_count": 40,
   "id": "4ea80af2-7e5c-47b0-bf7c-e811f1e14ce1",
   "metadata": {},
   "outputs": [],
   "source": [
    "l = [1, 2, 3, 4, 5, 6, 7, 8, 9, 10]\n",
    "a=lambda x : str(x)"
   ]
  },
  {
   "cell_type": "code",
   "execution_count": 42,
   "id": "c7aa326d-d65a-43e1-8131-2fe362f8b2b9",
   "metadata": {},
   "outputs": [
    {
     "data": {
      "text/plain": [
       "['1', '2', '3', '4', '5', '6', '7', '8', '9', '10']"
      ]
     },
     "execution_count": 42,
     "metadata": {},
     "output_type": "execute_result"
    }
   ],
   "source": [
    "list(map(a,l))"
   ]
  },
  {
   "cell_type": "markdown",
   "id": "9c1ad1b5-bc9f-49b3-9425-369aea8dd815",
   "metadata": {},
   "source": [
    "## Q4. Write a python program using reduce function to compute the product of a list containing numbers from 1 to 25."
   ]
  },
  {
   "cell_type": "code",
   "execution_count": 51,
   "id": "69ebb128-0051-48cb-9d5b-3977463e37dd",
   "metadata": {},
   "outputs": [],
   "source": [
    "from functools import reduce\n",
    "li = list(range(1,26))"
   ]
  },
  {
   "cell_type": "code",
   "execution_count": 52,
   "id": "1e1ad869-678e-4ce7-a737-1a781f6e6f95",
   "metadata": {},
   "outputs": [
    {
     "name": "stdout",
     "output_type": "stream",
     "text": [
      "[1, 2, 3, 4, 5, 6, 7, 8, 9, 10, 11, 12, 13, 14, 15, 16, 17, 18, 19, 20, 21, 22, 23, 24, 25]\n"
     ]
    }
   ],
   "source": [
    "print(li)"
   ]
  },
  {
   "cell_type": "code",
   "execution_count": 53,
   "id": "6e9c9ec1-f9ea-48bf-b783-a8f6e18338bf",
   "metadata": {},
   "outputs": [
    {
     "data": {
      "text/plain": [
       "15511210043330985984000000"
      ]
     },
     "execution_count": 53,
     "metadata": {},
     "output_type": "execute_result"
    }
   ],
   "source": [
    "reduce(lambda x ,y : x * y ,li)"
   ]
  },
  {
   "cell_type": "markdown",
   "id": "210e480d-15aa-451a-98c1-e06915aa6c7d",
   "metadata": {},
   "source": [
    "## Q5. Write a python program to filter the numbers in a given list that are divisible by 2 and 3 using the filter function.\n",
    "[2, 3, 6, 9, 27, 60, 90, 120, 55, 46]"
   ]
  },
  {
   "cell_type": "code",
   "execution_count": 59,
   "id": "ee4d0d3a-1822-4d66-8ca0-6cbf17af6502",
   "metadata": {},
   "outputs": [],
   "source": [
    "l = [2, 3, 6, 9, 27, 60, 90, 120, 55, 46]"
   ]
  },
  {
   "cell_type": "code",
   "execution_count": 63,
   "id": "0e43ecf5-6aff-42ec-a4ac-a10ab7caccb6",
   "metadata": {},
   "outputs": [
    {
     "data": {
      "text/plain": [
       "[2, 3, 6, 9, 27, 60, 90, 120, 46]"
      ]
     },
     "execution_count": 63,
     "metadata": {},
     "output_type": "execute_result"
    }
   ],
   "source": [
    "list(filter(lambda x : x %2 ==0 or x % 3 ==0, l ))"
   ]
  },
  {
   "cell_type": "markdown",
   "id": "29e03cf2-26c4-4e61-8ce9-221b9f26816f",
   "metadata": {},
   "source": [
    "## Q6. Write a python program to find palindromes in the given list of strings using lambda and filter function.\n",
    "['python', 'php', 'aba', 'radar', 'level']"
   ]
  },
  {
   "cell_type": "code",
   "execution_count": 67,
   "id": "f9d8a5a9-0a2b-43db-98c3-5a4ed237a6a4",
   "metadata": {},
   "outputs": [],
   "source": [
    "l = ['python', 'php', 'aba', 'radar', 'level']"
   ]
  },
  {
   "cell_type": "code",
   "execution_count": 68,
   "id": "168cf093-1f00-4f66-b310-e998be3e5a4d",
   "metadata": {},
   "outputs": [
    {
     "data": {
      "text/plain": [
       "['php', 'aba', 'radar', 'level']"
      ]
     },
     "execution_count": 68,
     "metadata": {},
     "output_type": "execute_result"
    }
   ],
   "source": [
    "list(filter(lambda x : x == x[::-1],l ))"
   ]
  },
  {
   "cell_type": "code",
   "execution_count": null,
   "id": "05c6bb31-731c-4db1-8abd-87bf7a3413a8",
   "metadata": {},
   "outputs": [],
   "source": []
  }
 ],
 "metadata": {
  "kernelspec": {
   "display_name": "Python 3 (ipykernel)",
   "language": "python",
   "name": "python3"
  },
  "language_info": {
   "codemirror_mode": {
    "name": "ipython",
    "version": 3
   },
   "file_extension": ".py",
   "mimetype": "text/x-python",
   "name": "python",
   "nbconvert_exporter": "python",
   "pygments_lexer": "ipython3",
   "version": "3.10.8"
  }
 },
 "nbformat": 4,
 "nbformat_minor": 5
}
