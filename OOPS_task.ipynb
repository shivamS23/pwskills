{
 "cells": [
  {
   "cell_type": "markdown",
   "id": "2efb938b-038e-4866-bb63-1806052aacd2",
   "metadata": {},
   "source": [
    "## ASSIGNMENT"
   ]
  },
  {
   "cell_type": "markdown",
   "id": "05710328-aec4-49f0-9754-b7e753722a5c",
   "metadata": {},
   "source": [
    "#### Q1 :Create a vehicle class with an init method having instance variables as name_of_vehicle, max_speed and average_of_vehicle.\n"
   ]
  },
  {
   "cell_type": "code",
   "execution_count": 1,
   "id": "e0ed36dc-1512-489e-8cd6-48656c4ea8da",
   "metadata": {},
   "outputs": [],
   "source": [
    "# ANSWER 1 :\n",
    "class vehicle :\n",
    "    def __init__(self,name_of_vehicle,max_speed, average_of_vehicle):\n",
    "        self.name_of_vehicle = name_of_vehicle\n",
    "        self.max_speed = max_speed\n",
    "        self. average_of_vehicle=  average_of_vehicle\n",
    "    def return_name(self):\n",
    "        return self.name_of_vehicle"
   ]
  },
  {
   "cell_type": "code",
   "execution_count": 2,
   "id": "20a8ccaf-4804-4c23-89c3-7a07c50760e4",
   "metadata": {},
   "outputs": [
    {
     "data": {
      "text/plain": [
       "'toyota'"
      ]
     },
     "execution_count": 2,
     "metadata": {},
     "output_type": "execute_result"
    }
   ],
   "source": [
    "TOY = vehicle('toyota',10,2)\n",
    "TOY.return_name()"
   ]
  },
  {
   "cell_type": "markdown",
   "id": "fe94bdbc-b437-4f9f-9bb7-765688c0010a",
   "metadata": {},
   "source": [
    "#### Q2. Create a child class car from the vehicle class created in Que 1, which will inherit the vehicle class.Create a method named seating_capacity which takes capacity as an argument and returns the name oF the vehicle and its seating capacity.\n"
   ]
  },
  {
   "cell_type": "code",
   "execution_count": 15,
   "id": "ad1e3c89-53a2-456e-b1e3-c3c094a21511",
   "metadata": {},
   "outputs": [
    {
     "name": "stdout",
     "output_type": "stream",
     "text": [
      "4\n",
      "Car\n"
     ]
    }
   ],
   "source": [
    "#ANSWER2 :\n",
    "class Vehicle:\n",
    "    '''creates a class that have vehicle speed ,avg speed and name '''\n",
    "    def __init__(self, name_of_vehicle, max_speed, average_of_vehicle):\n",
    "        self.name_of_vehicle = name_of_vehicle\n",
    "        self.max_speed = max_speed\n",
    "        self.average_of_vehicle = average_of_vehicle\n",
    "    \n",
    "    def return_name(self):\n",
    "        return self.name_of_vehicle\n",
    "\n",
    "class Car(Vehicle):\n",
    "    \n",
    "    def __init__(self, seating_capacity):\n",
    "        super().__init__(\"Car\", 0, 0)  \n",
    "        self.seating_capacity = seating_capacity\n",
    "    \n",
    "    def get_seating_capacity(self):\n",
    "        return self.seating_capacity\n",
    "\n",
    "\n",
    "my_car = Car(4)\n",
    "print(my_car.get_seating_capacity()) \n",
    "print(my_car.return_name())  #\n"
   ]
  },
  {
   "cell_type": "markdown",
   "id": "3ff9afc7-bf64-414e-9834-de6289237873",
   "metadata": {},
   "source": [
    "## EXTRA : NOT FROM CLASS LEARNING :\n",
    "\n",
    "The super() function is used to call the constructor of the parent class. By calling super().__init__(\"Car\", 0, 0), you are invoking the __init__ method of the Vehicle class and passing the values \"Car\", 0, and 0 as arguments. This allows the parent class to initialize its own attributes.\n",
    "\n",
    "In object-oriented programming, it is common to use super() to ensure that the initialization code of the parent class is executed before the specific initialization code of the child class. This ensures that the inherited attributes and behavior from the parent class are properly set up."
   ]
  },
  {
   "cell_type": "markdown",
   "id": "6a80e33f-291b-4392-8df0-ec52286a0817",
   "metadata": {},
   "source": [
    "#### Q3. What is multiple inheritance? Write a python code to demonstrate multiple inheritance.\n"
   ]
  },
  {
   "cell_type": "markdown",
   "id": "f634acdb-298a-456c-94ff-e847b32cee11",
   "metadata": {
    "tags": []
   },
   "source": [
    "#### ANSWER3  : Multiple inheritance is a feature in object-oriented programming that allows a class to inherit attributes and methods from multiple parent classes. It enables a derived class to inherit the characteristics and behavior of more than one base class."
   ]
  },
  {
   "cell_type": "code",
   "execution_count": 28,
   "id": "205402f9-4362-4469-aaf0-6f263d0576cb",
   "metadata": {},
   "outputs": [],
   "source": [
    "class vishwas_dad :\n",
    "    def __init__(self,ask_results):\n",
    "        self.ask_results = ask_results\n",
    "    def return_dad_say(self):\n",
    "        return 'you score is only ',self.ask_results ,'do improve'\n",
    "class vishwas_mom :\n",
    "    def __init__(self,ask_results):\n",
    "        self.ask_results = ask_results\n",
    "    def return_mom_says(self):\n",
    "        return 'you score is only ',self.ask_results ,'koi baat nhi beeta'\n",
    "class vishwas(vishwas_dad,vishwas_mom):\n",
    "    def return_ouput(self):\n",
    "        pass"
   ]
  },
  {
   "cell_type": "code",
   "execution_count": 29,
   "id": "b6edb95d-ea1d-4abb-9683-55f9d10d2586",
   "metadata": {},
   "outputs": [
    {
     "data": {
      "text/plain": [
       "('you score is only ', 59, 'do improve')"
      ]
     },
     "execution_count": 29,
     "metadata": {},
     "output_type": "execute_result"
    }
   ],
   "source": [
    "son = vishwas(59)\n",
    "son.return_dad_say()\n"
   ]
  },
  {
   "cell_type": "code",
   "execution_count": 31,
   "id": "b819bd56-5d74-4054-ad4b-e5e6969c0fef",
   "metadata": {},
   "outputs": [
    {
     "data": {
      "text/plain": [
       "('you score is only ', 59, 'koi baat nhi beeta')"
      ]
     },
     "execution_count": 31,
     "metadata": {},
     "output_type": "execute_result"
    }
   ],
   "source": [
    "son.return_mom_says()"
   ]
  },
  {
   "cell_type": "markdown",
   "id": "f92953cd-50c0-409f-b5dd-6c29de35bc35",
   "metadata": {},
   "source": [
    "#### Q4. What are getter and setter in python? Create a class and create a getter and a setter method in this class.\n"
   ]
  },
  {
   "cell_type": "code",
   "execution_count": 32,
   "id": "fe4f063f-8b78-4f43-a7a3-ce8e6eb3a405",
   "metadata": {},
   "outputs": [],
   "source": [
    "# ANSWER 4 : Getters are used to retrieve the value of an attribute, while setters are used to set or update the value of an attribute."
   ]
  },
  {
   "cell_type": "code",
   "execution_count": 40,
   "id": "25e2c94c-bc91-461c-9866-38b80d5bf757",
   "metadata": {},
   "outputs": [],
   "source": [
    "# give input as 1 if the user is present and 0 if the user is absent \n",
    "class attendace :\n",
    "    def __init__(self, present):\n",
    "        self.present = present \n",
    "    def get_present(self):\n",
    "        return 'user is present'\n",
    "    def set_present(self):\n",
    "        if self.present > 0:\n",
    "            return 'user is present'\n",
    "        else :\n",
    "            return 'user absent'"
   ]
  },
  {
   "cell_type": "code",
   "execution_count": 43,
   "id": "f16d9d82-aa60-49c6-939a-57618dc8c8ee",
   "metadata": {},
   "outputs": [
    {
     "data": {
      "text/plain": [
       "'user is present'"
      ]
     },
     "execution_count": 43,
     "metadata": {},
     "output_type": "execute_result"
    }
   ],
   "source": [
    "student = attendace(0)\n",
    "student.get_present()"
   ]
  },
  {
   "cell_type": "code",
   "execution_count": 44,
   "id": "c8bf3ac2-e74d-4605-a6f7-1335d6cac8ab",
   "metadata": {},
   "outputs": [
    {
     "data": {
      "text/plain": [
       "'user absent'"
      ]
     },
     "execution_count": 44,
     "metadata": {},
     "output_type": "execute_result"
    }
   ],
   "source": [
    "student.set_present()"
   ]
  },
  {
   "cell_type": "markdown",
   "id": "5f89ad77-84c2-48e1-aefa-3a89d0c989af",
   "metadata": {},
   "source": [
    "#### Q5.What is method overriding in python? Write a python code to demonstrate method overriding."
   ]
  },
  {
   "cell_type": "markdown",
   "id": "9d73aafc-a38a-4de3-baf9-a7b257ac885c",
   "metadata": {},
   "source": [
    "#### ANSWER5 :When a method in the derived class has the same name and parameters as a method in the base class, it overrides the base class method, and the derived class's implementation."
   ]
  },
  {
   "cell_type": "code",
   "execution_count": 45,
   "id": "8f0f1827-d2d6-4bc7-a3da-3af727b741fa",
   "metadata": {},
   "outputs": [
    {
     "name": "stdout",
     "output_type": "stream",
     "text": [
      "The animal makes a sound.\n",
      "The dog barks.\n"
     ]
    }
   ],
   "source": [
    "class Animal:\n",
    "    '''look here what is done is we created a animal as a class and then we inherit that class animal into another with same fuction defined\n",
    "    what it will do is that it will overide that animal function and take the child fucntion that could be cat or dog in this case'''\n",
    "    def sound(self):\n",
    "        print(\"The animal makes a sound.\")\n",
    "\n",
    "class Dog(Animal):\n",
    "    def sound(self):\n",
    "        print(\"The dog barks.\")\n",
    "\n",
    "class Cat(Animal):\n",
    "    def sound(self):\n",
    "        print(\"The cat meows.\")\n",
    "\n",
    "\n",
    "animal = Animal()\n",
    "dog = Dog()\n",
    "cat = Cat()\n",
    "\n",
    "\n",
    "animal.sound() \n",
    "dog.sound()  "
   ]
  },
  {
   "cell_type": "code",
   "execution_count": null,
   "id": "583b706a-3e14-4070-b0ea-74fc197fa452",
   "metadata": {},
   "outputs": [],
   "source": []
  }
 ],
 "metadata": {
  "kernelspec": {
   "display_name": "Python 3 (ipykernel)",
   "language": "python",
   "name": "python3"
  },
  "language_info": {
   "codemirror_mode": {
    "name": "ipython",
    "version": 3
   },
   "file_extension": ".py",
   "mimetype": "text/x-python",
   "name": "python",
   "nbconvert_exporter": "python",
   "pygments_lexer": "ipython3",
   "version": "3.10.8"
  }
 },
 "nbformat": 4,
 "nbformat_minor": 5
}
