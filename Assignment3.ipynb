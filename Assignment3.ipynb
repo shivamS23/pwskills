{
 "cells": [
  {
   "cell_type": "markdown",
   "id": "bb92dc3f-8ff5-496a-8b1b-fdf798473dbc",
   "metadata": {},
   "source": [
    "## Q1. Which keyword is used to create a function? Create a function to return a list of odd numbers in the range of 1 to 25."
   ]
  },
  {
   "cell_type": "code",
   "execution_count": 1,
   "id": "88af6bb6-c095-48eb-aca6-a607dbd49377",
   "metadata": {},
   "outputs": [],
   "source": [
    "# Answer : Keyword used to define a fuction is def \n",
    "def odd_number(n):\n",
    "    '''This fuction takes the input in form of list and will retuen a list of odd numbers'''\n",
    "    l = []                          #created a blank list \n",
    "    for i in n :                    #iterating through the list\n",
    "        if i % 2 != 0:              #condition\n",
    "            l.append(i)             #appending in the list \n",
    "    return l                        #returning the list\n",
    "            "
   ]
  },
  {
   "cell_type": "code",
   "execution_count": 2,
   "id": "b7a3c030-6f6b-4a21-9519-eb4a20c907a7",
   "metadata": {},
   "outputs": [
    {
     "name": "stdout",
     "output_type": "stream",
     "text": [
      "[1, 2, 3, 4, 5, 6, 7, 8, 9, 10, 11, 12, 13, 14, 15, 16, 17, 18, 19, 20, 21, 22, 23, 24, 25]\n"
     ]
    }
   ],
   "source": [
    "list_old=list(range(1,26))         # creating my input\n",
    "print(list_old)                    #checking my output"
   ]
  },
  {
   "cell_type": "code",
   "execution_count": 3,
   "id": "b6c7c1ef-7302-4a9d-add7-081408bad408",
   "metadata": {},
   "outputs": [],
   "source": [
    "a=odd_number(list_old)             # assignining variable to the function and giving input to the function"
   ]
  },
  {
   "cell_type": "code",
   "execution_count": 4,
   "id": "44ea1aa3-6b34-42ce-91d2-cd1975b3a766",
   "metadata": {},
   "outputs": [
    {
     "data": {
      "text/plain": [
       "[1, 3, 5, 7, 9, 11, 13, 15, 17, 19, 21, 23, 25]"
      ]
     },
     "execution_count": 4,
     "metadata": {},
     "output_type": "execute_result"
    }
   ],
   "source": [
    "a                                  #Answer"
   ]
  },
  {
   "cell_type": "markdown",
   "id": "833b4219-4e67-4296-baec-9244c1f69332",
   "metadata": {},
   "source": [
    "## Q2. Why *args and **kwargs is used in some functions? Create a function each for *args and **kwargs to demonstrate their use."
   ]
  },
  {
   "cell_type": "markdown",
   "id": "a8253164-399a-48a7-8f4e-9460583fd96e",
   "metadata": {},
   "source": [
    "Answer : *args is used to take multiple arguments whereas **kwargs is to take multiple arguments in dictionary form .Note : this can be used when the user doesnt want to define the number of input .Same can be demonstrated below"
   ]
  },
  {
   "cell_type": "code",
   "execution_count": 5,
   "id": "a9809ffd-61b1-47b9-b587-5e6bdea58af6",
   "metadata": {},
   "outputs": [],
   "source": [
    "def name (*args):\n",
    "    '''generate students name that are good'''\n",
    "    for i in args:                             # loop \n",
    "        yield i + ' is good '                  # together take the input and process it and then give the output"
   ]
  },
  {
   "cell_type": "code",
   "execution_count": 6,
   "id": "65592de2-190d-43d5-8d74-ff15b1e00dd8",
   "metadata": {},
   "outputs": [
    {
     "name": "stdout",
     "output_type": "stream",
     "text": [
      "shivam is good \n",
      "rohan is good \n"
     ]
    }
   ],
   "source": [
    "for i in list(name('shivam','rohan')):         # give output as a generator hence required to iterate\n",
    "    print(i)                                   # output"
   ]
  },
  {
   "cell_type": "code",
   "execution_count": 7,
   "id": "fdd0b934-de0a-408a-bfa3-e3e0103eea9a",
   "metadata": {},
   "outputs": [],
   "source": [
    "def name_1(**kwargs):\n",
    "    '''generated the list of students that are good or bod as difined by the user in dictionary'''\n",
    "    return kwargs"
   ]
  },
  {
   "cell_type": "code",
   "execution_count": 8,
   "id": "0b7ef7ad-29c7-4028-923e-5429b163b748",
   "metadata": {},
   "outputs": [
    {
     "data": {
      "text/plain": [
       "{'good_Students': ['shivam sharma', 'rohan joshi'],\n",
       " 'bad_students': ['rashmi johar', 'karan baachan']}"
      ]
     },
     "execution_count": 8,
     "metadata": {},
     "output_type": "execute_result"
    }
   ],
   "source": [
    "name_1(good_Students=['shivam sharma','rohan joshi'], bad_students =['rashmi johar','karan baachan'])\n",
    "    "
   ]
  },
  {
   "cell_type": "markdown",
   "id": "2f657a47-e616-4414-a52c-c3be6aeca592",
   "metadata": {},
   "source": [
    "## Q3. What is an iterator in python? Name the method used to initialise the iterator object and the method used for iteration. Use these methods to print the first five elements of the given list [2, 4, 6, 8, 10, 12, 14,16, 18, 20]."
   ]
  },
  {
   "cell_type": "markdown",
   "id": "7e394782-6415-4c51-bdb2-bc04b624d14c",
   "metadata": {},
   "source": [
    "Answer : An iterator is an object that allows you to traverse through a collection of elements one by one. \n",
    "\n",
    "To initialize an iterator object, you need to use the iter() function, passing it the container or iterable object you want to iterate over"
   ]
  },
  {
   "cell_type": "code",
   "execution_count": 9,
   "id": "5ecc2eac-d9e6-4a22-9ce2-93e20dba4fa2",
   "metadata": {},
   "outputs": [
    {
     "name": "stdout",
     "output_type": "stream",
     "text": [
      "2\n",
      "4\n",
      "6\n",
      "8\n",
      "10\n"
     ]
    }
   ],
   "source": [
    "l = [2, 4, 6, 8, 10, 12, 14,16, 18, 20]\n",
    "a=iter(l)\n",
    "print(next(a))\n",
    "print(next(a))\n",
    "print(next(a))\n",
    "print(next(a))\n",
    "print(next(a))\n"
   ]
  },
  {
   "cell_type": "markdown",
   "id": "efec3067-1c4c-41cb-847b-8b0097d54dcd",
   "metadata": {},
   "source": [
    "## Q4 : What is a generator function in python? Why yield keyword is used? Give an example of a generator function. "
   ]
  },
  {
   "cell_type": "markdown",
   "id": "e9e9a5b3-27ff-4983-9fae-e95f090b3df6",
   "metadata": {},
   "source": [
    "Answer :In Python, a generator function is a special type of function that returns an iterator, which can be used to generate a sequence of values on-the-fly, instead of generating them all at once and storing them in memory. It allows you to create iterators in a more concise and efficient way.\n",
    "\n",
    "A generator function is defined like a normal function, but instead of using the \"return\" keyword to return a value, it uses the \"yield\" keyword. "
   ]
  },
  {
   "cell_type": "code",
   "execution_count": 10,
   "id": "b40753e6-27cf-4954-bb98-6a2398d72070",
   "metadata": {},
   "outputs": [],
   "source": [
    "# lets examine one by one each line of the defination:\n",
    "def fib(n):\n",
    "    a = 0 \n",
    "    b =1 \n",
    "    for i in range (n) :\n",
    "        yield a\n",
    "        a ,b = b ,a+b"
   ]
  },
  {
   "cell_type": "code",
   "execution_count": 11,
   "id": "cea16d5a-7e14-4ee4-baa9-7b0c47949eeb",
   "metadata": {},
   "outputs": [
    {
     "data": {
      "text/plain": [
       "<generator object fib at 0x7fa29a125e70>"
      ]
     },
     "execution_count": 11,
     "metadata": {},
     "output_type": "execute_result"
    }
   ],
   "source": [
    "fib(20)   #a generator function is a special type of function that returns an iterator"
   ]
  },
  {
   "cell_type": "code",
   "execution_count": 12,
   "id": "b54545f7-9393-453f-a119-184bd0e90bac",
   "metadata": {},
   "outputs": [
    {
     "name": "stdout",
     "output_type": "stream",
     "text": [
      "0\n",
      "1\n",
      "1\n",
      "2\n",
      "3\n",
      "5\n",
      "8\n",
      "13\n",
      "21\n",
      "34\n"
     ]
    }
   ],
   "source": [
    "for i in fib(10):\n",
    "    print(i)"
   ]
  },
  {
   "cell_type": "markdown",
   "id": "b620842c-776b-49a7-8e80-1363b9e56f62",
   "metadata": {},
   "source": [
    "## Q5. Create a generator function for prime numbers less than 1000. Use the next() method to print the first 20 prime numbers."
   ]
  },
  {
   "cell_type": "code",
   "execution_count": 13,
   "id": "d896771c-9b79-4985-99d6-bc3113313e02",
   "metadata": {},
   "outputs": [
    {
     "name": "stdout",
     "output_type": "stream",
     "text": [
      "2\n",
      "3\n",
      "5\n",
      "7\n",
      "11\n",
      "13\n",
      "17\n",
      "19\n",
      "23\n",
      "29\n",
      "31\n",
      "37\n",
      "41\n",
      "43\n",
      "47\n",
      "53\n",
      "59\n",
      "61\n",
      "67\n",
      "71\n"
     ]
    }
   ],
   "source": [
    "def generate_primes():\n",
    "    primes = []\n",
    "    num = 2\n",
    "\n",
    "    while num < 1000:\n",
    "        is_prime = True\n",
    "        for prime in primes:\n",
    "            if num % prime == 0:\n",
    "                is_prime = False\n",
    "                break\n",
    "\n",
    "        if is_prime:\n",
    "            primes.append(num)\n",
    "            yield num\n",
    "\n",
    "        num += 1\n",
    "\n",
    "# Create the generator object\n",
    "prime_generator = generate_primes()\n",
    "\n",
    "# Print the first 20 prime numbers\n",
    "for _ in range(20):  #the underscore character (_) is  used as a convention to indicate a variable that is not going to be used or accessed within the loop\n",
    "    print(next(prime_generator))\n"
   ]
  },
  {
   "cell_type": "markdown",
   "id": "956c6ae4-0f03-48a8-9c31-b57ccdd7562b",
   "metadata": {},
   "source": [
    "## Q6. Write a python program to print the first 10 Fibonacci numbers using a while loop."
   ]
  },
  {
   "cell_type": "code",
   "execution_count": 14,
   "id": "834dda18-e1e8-4613-8dff-ec82fa9d1094",
   "metadata": {},
   "outputs": [
    {
     "name": "stdout",
     "output_type": "stream",
     "text": [
      "0\n",
      "1\n",
      "1\n",
      "2\n",
      "3\n",
      "5\n",
      "8\n",
      "13\n",
      "21\n",
      "34\n"
     ]
    }
   ],
   "source": [
    "def print_fibonacci():\n",
    "    n = 10 \n",
    "    count = 0  \n",
    "    a, b = 0, 1  \n",
    "\n",
    "    # Print Fibonacci numbers using a while loop\n",
    "    while count < n:\n",
    "        print(a)\n",
    "\n",
    "       \n",
    "        a, b = b, a + b\n",
    "        count += 1\n",
    "\n",
    "print_fibonacci()\n"
   ]
  },
  {
   "cell_type": "markdown",
   "id": "e9f96a87-8b71-46ff-add1-8d277f20f42f",
   "metadata": {},
   "source": [
    "## Q7. Write a List Comprehension to iterate through the given string: ‘pwskills’. Expected output: ['p', 'w', 's', 'k', 'i', 'l', 'l', 's']"
   ]
  },
  {
   "cell_type": "code",
   "execution_count": 15,
   "id": "78d2eeb6-3de0-4f13-ba3f-3b20833fa111",
   "metadata": {},
   "outputs": [],
   "source": [
    "string = 'pwskills'\n",
    "l =[]\n",
    "for i in string:\n",
    "    l.append(i)"
   ]
  },
  {
   "cell_type": "code",
   "execution_count": 16,
   "id": "c6717d42-d330-4940-8d6b-61f267b1d4db",
   "metadata": {},
   "outputs": [
    {
     "name": "stdout",
     "output_type": "stream",
     "text": [
      "['p', 'w', 's', 'k', 'i', 'l', 'l', 's']\n"
     ]
    }
   ],
   "source": [
    "print(l)"
   ]
  },
  {
   "cell_type": "markdown",
   "id": "ce852982-e601-41bb-ae18-02988d7373a0",
   "metadata": {},
   "source": [
    "## 8. Write a python program to check whether a given number is Palindrome or not using a while loop."
   ]
  },
  {
   "cell_type": "code",
   "execution_count": 17,
   "id": "4c14dd35-ae2c-4794-b2f6-167a20ec92e1",
   "metadata": {},
   "outputs": [
    {
     "name": "stdin",
     "output_type": "stream",
     "text": [
      "Enter a number:  1221\n"
     ]
    },
    {
     "name": "stdout",
     "output_type": "stream",
     "text": [
      "1221 is a palindrome.\n"
     ]
    }
   ],
   "source": [
    "def is_palindrome(number):\n",
    "    # Store the original number\n",
    "    original_number = number\n",
    "\n",
    "    # Initialize variables\n",
    "    reverse_number = 0\n",
    "    while number > 0:\n",
    "        # Extract the last digit of the number\n",
    "        last_digit = number % 10\n",
    "\n",
    "        # Form the reverse number by appending the last digit\n",
    "        reverse_number = (reverse_number * 10) + last_digit\n",
    "\n",
    "        # Remove the last digit from the number\n",
    "        number = number // 10\n",
    "\n",
    "    # Check if the original number is equal to its reverse\n",
    "    if original_number == reverse_number:\n",
    "        return True\n",
    "    else:\n",
    "        return False\n",
    "\n",
    "\n",
    "# Test the function\n",
    "num = int(input(\"Enter a number: \"))\n",
    "if is_palindrome(num):\n",
    "    print(f\"{num} is a palindrome.\")\n",
    "else:\n",
    "    print(f\"{num} is not a palindrome.\")\n"
   ]
  },
  {
   "cell_type": "markdown",
   "id": "128cbf0e-5655-413e-9a01-6591bfe5fe4c",
   "metadata": {},
   "source": [
    "## Q9. Write a code to print odd numbers from 1 to 100 using list comprehension. Note: Use a list comprehension to create a list from 1 to 100 and use another List comprehension to filter out odd numbers."
   ]
  },
  {
   "cell_type": "code",
   "execution_count": 19,
   "id": "4d8372cb-8213-4fbf-af37-443c43c7996c",
   "metadata": {},
   "outputs": [
    {
     "ename": "SyntaxError",
     "evalue": "invalid syntax (1128835548.py, line 3)",
     "output_type": "error",
     "traceback": [
      "\u001b[0;36m  Cell \u001b[0;32mIn[19], line 3\u001b[0;36m\u001b[0m\n\u001b[0;31m    for i in range list1:\u001b[0m\n\u001b[0m                   ^\u001b[0m\n\u001b[0;31mSyntaxError\u001b[0m\u001b[0;31m:\u001b[0m invalid syntax\n"
     ]
    }
   ],
   "source": [
    "list1=list(range(1,101))\n",
    "list2=[]\n",
    "for i in range list1:\n",
    "    if i % 2 !=0:\n",
    "        list2.append(i)"
   ]
  },
  {
   "cell_type": "code",
   "execution_count": null,
   "id": "ba706806-46b8-4423-b85d-a444cb3364d9",
   "metadata": {},
   "outputs": [],
   "source": []
  }
 ],
 "metadata": {
  "kernelspec": {
   "display_name": "Python 3 (ipykernel)",
   "language": "python",
   "name": "python3"
  },
  "language_info": {
   "codemirror_mode": {
    "name": "ipython",
    "version": 3
   },
   "file_extension": ".py",
   "mimetype": "text/x-python",
   "name": "python",
   "nbconvert_exporter": "python",
   "pygments_lexer": "ipython3",
   "version": "3.10.8"
  }
 },
 "nbformat": 4,
 "nbformat_minor": 5
}
